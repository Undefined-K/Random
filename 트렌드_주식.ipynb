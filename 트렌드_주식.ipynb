{
 "cells": [
  {
   "cell_type": "code",
   "execution_count": 34,
   "id": "1f6dec5d",
   "metadata": {},
   "outputs": [
    {
     "name": "stdout",
     "output_type": "stream",
     "text": [
      "         Time  Trend_idx\n",
      "0  2021-06-14   46.31953\n",
      "1  2021-06-15   47.86191\n",
      "2  2021-06-16   37.37031\n",
      "3  2021-06-17   43.78012\n",
      "4  2021-06-18   64.00251\n",
      "..        ...        ...\n",
      "87 2021-09-09   97.35535\n",
      "88 2021-09-10   60.90478\n",
      "89 2021-09-11   10.63507\n",
      "90 2021-09-12   10.12204\n",
      "91 2021-09-13   61.24420\n",
      "\n",
      "[92 rows x 2 columns]\n"
     ]
    }
   ],
   "source": [
    "#-*- coding: utf-8 -*-\n",
    "import os\n",
    "import sys\n",
    "import json\n",
    "import pandas as pd\n",
    "import matplotlib.pyplot as plt\n",
    "import urllib.request\n",
    "client_id = \"OUuvgTQUVWExNh9fagSQ\"\n",
    "client_secret = \"2E_d1CXQ2o\"\n",
    "url = \"https://openapi.naver.com/v1/datalab/search\";\n",
    "\n",
    "# API 문서 https://developers.naver.com/docs/serviceapi/datalab/search/search.md#%ED%86%B5%ED%95%A9-%EA%B2%80%EC%83%89%EC%96%B4-%ED%8A%B8%EB%A0%8C%EB%93%9C-%EA%B0%9C%EC%9A%94\n",
    "body = {\"startDate\":\"2021-06-14\", \n",
    "        \"endDate\":\"2021-09-14\", \n",
    "        \"timeUnit\":\"date\", \n",
    "        \"keywordGroups\":[{\"groupName\":\"카카오\", \n",
    "                          \"keywords\":[\"카카오\",\"주가\",\"규제\"]}]}\n",
    "\n",
    "body = json.dumps(body, ensure_ascii=False).encode('utf-8')\n",
    "\n",
    "request = urllib.request.Request(url)\n",
    "request.add_header(\"X-Naver-Client-Id\",client_id)\n",
    "request.add_header(\"X-Naver-Client-Secret\",client_secret)\n",
    "request.add_header(\"Content-Type\",\"application/json\")\n",
    "response = urllib.request.urlopen(request, data=body)\n",
    "rescode = response.getcode()\n",
    "if(rescode==200):\n",
    "    response_body = response.read()\n",
    "    response_body = response_body.decode('utf-8')        \n",
    "else:\n",
    "    print(\"Error Code:\" + rescode)\n",
    "\n",
    "result = json.loads(response_body)\n",
    "data = result['results'][0]['data']\n",
    "time = [pd.to_datetime(i['period']) for i in data] \n",
    "value = [i['ratio'] for i in data]\n",
    "data = pd.DataFrame({'Time':time, 'Trend_idx': value})\n",
    "print(data)\n"
   ]
  },
  {
   "cell_type": "code",
   "execution_count": 36,
   "id": "a377df20",
   "metadata": {
    "scrolled": true
   },
   "outputs": [
    {
     "data": {
      "text/plain": [
       "[<matplotlib.lines.Line2D at 0x7fef4741a0d0>]"
      ]
     },
     "execution_count": 36,
     "metadata": {},
     "output_type": "execute_result"
    },
    {
     "data": {
      "image/png": "[encoded data removed]",
      "text/plain": [
       "<Figure size 432x288 with 1 Axes>"
      ]
     },
     "metadata": {
      "needs_background": "light"
     },
     "output_type": "display_data"
    }
   ],
   "source": [
    "plt.plot(data['Time'], data['Trend_idx'])"
   ]
  },
  {
   "cell_type": "code",
   "execution_count": 39,
   "id": "d41ca1da",
   "metadata": {},
   "outputs": [
    {
     "data": {
      "text/html": [
       "<div>\n",
       "<style scoped>\n",
       "    .dataframe tbody tr th:only-of-type {\n",
       "        vertical-align: middle;\n",
       "    }\n",
       "\n",
       "    .dataframe tbody tr th {\n",
       "        vertical-align: top;\n",
       "    }\n",
       "\n",
       "    .dataframe thead th {\n",
       "        text-align: right;\n",
       "    }\n",
       "</style>\n",
       "<table border=\"1\" class=\"dataframe\">\n",
       "  <thead>\n",
       "    <tr style=\"text-align: right;\">\n",
       "      <th></th>\n",
       "      <th>Time</th>\n",
       "      <th>Trend_idx</th>\n",
       "    </tr>\n",
       "  </thead>\n",
       "  <tbody>\n",
       "    <tr>\n",
       "      <th>82</th>\n",
       "      <td>2021-09-04</td>\n",
       "      <td>3.53284</td>\n",
       "    </tr>\n",
       "    <tr>\n",
       "      <th>83</th>\n",
       "      <td>2021-09-05</td>\n",
       "      <td>3.53003</td>\n",
       "    </tr>\n",
       "    <tr>\n",
       "      <th>84</th>\n",
       "      <td>2021-09-06</td>\n",
       "      <td>15.68845</td>\n",
       "    </tr>\n",
       "    <tr>\n",
       "      <th>85</th>\n",
       "      <td>2021-09-07</td>\n",
       "      <td>13.64021</td>\n",
       "    </tr>\n",
       "    <tr>\n",
       "      <th>86</th>\n",
       "      <td>2021-09-08</td>\n",
       "      <td>100.00000</td>\n",
       "    </tr>\n",
       "    <tr>\n",
       "      <th>87</th>\n",
       "      <td>2021-09-09</td>\n",
       "      <td>97.35535</td>\n",
       "    </tr>\n",
       "    <tr>\n",
       "      <th>88</th>\n",
       "      <td>2021-09-10</td>\n",
       "      <td>60.90478</td>\n",
       "    </tr>\n",
       "    <tr>\n",
       "      <th>89</th>\n",
       "      <td>2021-09-11</td>\n",
       "      <td>10.63507</td>\n",
       "    </tr>\n",
       "    <tr>\n",
       "      <th>90</th>\n",
       "      <td>2021-09-12</td>\n",
       "      <td>10.12204</td>\n",
       "    </tr>\n",
       "    <tr>\n",
       "      <th>91</th>\n",
       "      <td>2021-09-13</td>\n",
       "      <td>61.24420</td>\n",
       "    </tr>\n",
       "  </tbody>\n",
       "</table>\n",
       "</div>"
      ],
      "text/plain": [
       "         Time  Trend_idx\n",
       "82 2021-09-04    3.53284\n",
       "83 2021-09-05    3.53003\n",
       "84 2021-09-06   15.68845\n",
       "85 2021-09-07   13.64021\n",
       "86 2021-09-08  100.00000\n",
       "87 2021-09-09   97.35535\n",
       "88 2021-09-10   60.90478\n",
       "89 2021-09-11   10.63507\n",
       "90 2021-09-12   10.12204\n",
       "91 2021-09-13   61.24420"
      ]
     },
     "execution_count": 39,
     "metadata": {},
     "output_type": "execute_result"
    }
   ],
   "source": [
    "data.tail(10)"
   ]
  }
 ],
 "metadata": {
  "kernelspec": {
   "display_name": "Python 3",
   "language": "python",
   "name": "python3"
  },
  "language_info": {
   "codemirror_mode": {
    "name": "ipython",
    "version": 3
   },
   "file_extension": ".py",
   "mimetype": "text/x-python",
   "name": "python",
   "nbconvert_exporter": "python",
   "pygments_lexer": "ipython3",
   "version": "3.8.8"
  }
 },
 "nbformat": 4,
 "nbformat_minor": 5
}
